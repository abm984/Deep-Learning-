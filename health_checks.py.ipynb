{
 "cells": [
  {
   "cell_type": "code",
   "execution_count": 1,
   "id": "12ddc8af",
   "metadata": {},
   "outputs": [],
   "source": [
    "import shutil"
   ]
  },
  {
   "cell_type": "code",
   "execution_count": 3,
   "id": "de8b43a2",
   "metadata": {},
   "outputs": [],
   "source": [
    "du = shutil.disk_usage(\"/\")"
   ]
  },
  {
   "cell_type": "code",
   "execution_count": 4,
   "id": "7221ba81",
   "metadata": {},
   "outputs": [
    {
     "name": "stdout",
     "output_type": "stream",
     "text": [
      "usage(total=314048507904, used=280123469824, free=33925038080)\n"
     ]
    }
   ],
   "source": [
    "print(du)"
   ]
  },
  {
   "cell_type": "code",
   "execution_count": 6,
   "id": "c6bc40ff",
   "metadata": {},
   "outputs": [],
   "source": [
    "import psutil\n"
   ]
  },
  {
   "cell_type": "code",
   "execution_count": 7,
   "id": "4ee086dd",
   "metadata": {},
   "outputs": [
    {
     "data": {
      "text/plain": [
       "10.802483446401338"
      ]
     },
     "execution_count": 7,
     "metadata": {},
     "output_type": "execute_result"
    }
   ],
   "source": [
    "du.free/du.total*100"
   ]
  },
  {
   "cell_type": "code",
   "execution_count": 11,
   "id": "7ff78729",
   "metadata": {},
   "outputs": [
    {
     "data": {
      "text/plain": [
       "20.8"
      ]
     },
     "execution_count": 11,
     "metadata": {},
     "output_type": "execute_result"
    }
   ],
   "source": [
    "psutil.cpu_percent(0.1)\n"
   ]
  },
  {
   "cell_type": "code",
   "execution_count": 12,
   "id": "d0b61568",
   "metadata": {},
   "outputs": [],
   "source": [
    "#!/usr/bin/env python3"
   ]
  },
  {
   "cell_type": "code",
   "execution_count": 13,
   "id": "d48ece0d",
   "metadata": {},
   "outputs": [],
   "source": [
    "import shutil\n",
    "import psutil"
   ]
  },
  {
   "cell_type": "code",
   "execution_count": 16,
   "id": "78d3a248",
   "metadata": {},
   "outputs": [],
   "source": [
    "def check_disk_usage(disk):\n",
    "    du = shutil.disk_usage(disk)\n",
    "    free = du.free/du.total * 100\n",
    "    return free > 20"
   ]
  },
  {
   "cell_type": "code",
   "execution_count": 17,
   "id": "de9ed80b",
   "metadata": {},
   "outputs": [],
   "source": [
    "def check_cpu_usage():\n",
    "    usage = psutil.cpu_percent(1)\n",
    "    return usage < 75"
   ]
  },
  {
   "cell_type": "code",
   "execution_count": 19,
   "id": "a40fd136",
   "metadata": {},
   "outputs": [
    {
     "name": "stdout",
     "output_type": "stream",
     "text": [
      "ERROR!\n"
     ]
    }
   ],
   "source": [
    "if not check_disk_usage(\"/\") or not check_cpu_usage():\n",
    "    print(\"ERROR!\")\n",
    "else:\n",
    "        print(\"Everything is Ok\")\n",
    "        "
   ]
  },
  {
   "cell_type": "code",
   "execution_count": null,
   "id": "30b1b78c",
   "metadata": {},
   "outputs": [],
   "source": []
  }
 ],
 "metadata": {
  "kernelspec": {
   "display_name": "Python 3 (ipykernel)",
   "language": "python",
   "name": "python3"
  },
  "language_info": {
   "codemirror_mode": {
    "name": "ipython",
    "version": 3
   },
   "file_extension": ".py",
   "mimetype": "text/x-python",
   "name": "python",
   "nbconvert_exporter": "python",
   "pygments_lexer": "ipython3",
   "version": "3.10.2"
  }
 },
 "nbformat": 4,
 "nbformat_minor": 5
}
